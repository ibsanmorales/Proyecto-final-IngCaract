{
 "cells": [
  {
   "cell_type": "markdown",
   "metadata": {},
   "source": [
    "# Ingeniería de características - implementación de un proceso\n",
    "\n",
    "## Introducción\n",
    "La ingeniería de características es un proceso que se utiliza para seleccionar y transformar variables teniendo algunos puntos como la extracción, limpieza, transformación y selección de nuestros datos será la piedra angular en nuestro procesos de ciencia de datos.\n",
    "\n",
    "## Problemática \n",
    "El presupuesto para la nación siempre así un tema muy controversial, el uso de los recursos enfocados a un área o problema en específico, administrados correcta, debería ser una imagen del crecimiento (mejora de condiciones de área) en los sectores de inversión especificados. Lo que viene a preguntarnos, ¿los recursos han sido eficientemente administrados?, ¿han tenido algún impacto durante su gestión en el área enfocada?, nosotros trataremos de dar una vista muy global sobre educación comparando los recursos implementados durante los años.\n",
    "\n",
    "Es importante aclarar que estos problemas son sistémicos e intervienen muchas otras variables para tener una conclusión precisa y una mejor comprensión del problema que por cuestiones de enfoque no entraremos en materia, por lo que solamente consideraremos el presupuesto implementado contra datos educación. "
   ]
  },
  {
   "cell_type": "code",
   "execution_count": null,
   "metadata": {},
   "outputs": [],
   "source": [
    "#librerias\n",
    "import pandas as pd\n",
    "import seaborn as sns\n",
    "import matplotlib.pyplot as plt\n",
    "\n",
    "path_edu = './tidy_data/educacion_tidy.csv'\n",
    "path_presu = './tidy_data/presupuesto_tidy.csv'\n",
    "\n",
    "df_edu = pd.read_csv(path_edu)\n",
    "\n",
    "df_presu = pd.read_csv(path_presu)\n",
    "\n",
    "df_edu['Fecha'] = df_edu['Fecha'].astype('category')\n",
    "df_presu['CICLO'] = df_presu['CICLO'].astype('category')"
   ]
  }
 ],
 "metadata": {
  "interpreter": {
   "hash": "1b06358f2dc1143787ca127c1ec94e9b87180c1960bc891c039a9bb26c09e238"
  },
  "kernelspec": {
   "display_name": "Python 3.9.7 64-bit ('base': conda)",
   "language": "python",
   "name": "python3"
  },
  "language_info": {
   "name": "python",
   "version": "3.9.7"
  },
  "orig_nbformat": 4
 },
 "nbformat": 4,
 "nbformat_minor": 2
}
